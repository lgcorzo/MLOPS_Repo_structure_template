{
 "cells": [
  {
   "attachments": {},
   "cell_type": "markdown",
   "metadata": {},
   "source": [
    "# BU PROJECT_NAME Project environment initialization  notebook\n",
    "\n",
    "<!-- cspell:ignore  Galo Corzo MLOPS jupyter -->\n",
    "<!-- cspell:enable -->\n",
    "\n",
    "| Version | name | Release Date | Description |\n",
    "| ------- |---------| ------------ | ----------- |\n",
    "| 1.0     | Luis Galo Corzo |February 1, 2023 | task-xxxx (yyyy) (BU) PROJECT_NAME Create Repo Structure |\n",
    "<!-- PULL_REQUESTS_TABLE -->"
   ]
  },
  {
   "cell_type": "markdown",
   "metadata": {},
   "source": [
    "## Introduction\n",
    "\n",
    " In this notebook, it is the start of the MLOPS process:\n",
    "-  Define te first environment related ti the Business Uderstanding process.\n",
    "-  we will initialize the project by creating a new .env file. This file will contain all the secret parameters and connection details required for the development and testing environments. Please note that access to the production environment is restricted and not allowed from personal computers.\n",
    "-  Read the data needed to star the process, this process wil be realized in the AzureML workspace, the data can not be download to the personal computers, if it is needed will this data has to be anonymized properly "
   ]
  },
  {
   "attachments": {},
   "cell_type": "markdown",
   "metadata": {
    "notebookRunGroups": {
     "groupValue": "1"
    }
   },
   "source": [
    "<!-- cspell:enable -->\n",
    "<!-- cspell:ignoreRegExp /^(\\s*`{3,}).*[\\s\\S]*?^\\1/gmx -->\n",
    "## Environment installation\n",
    "\n",
    "The environment needed to run the notebook is defined in Settings\\Notebooks\\BusinessUnderstanding\\BU_env.yaml\n",
    "\n",
    "The command to install the environment for this notebook is:\n",
    "\n",
    "``` cmd\n",
    "conda env create -f Settings\\Notebooks\\BusinessUnderstanding\\BU_env.yaml  \n",
    "```\n",
    "To update the environment the command is:\n",
    "``` cmd\n",
    "conda env update -n BU_env -f Settings\\Notebooks\\BusinessUnderstanding\\BU_env.yaml  --prune\n",
    "```\n",
    "\n",
    "the environment can be run in windows or Linux and all the packages used has to be updated in the env file\n",
    "\n",
    "The notebook is a Jupyter notebook so the environment needs the ipykernel package to run from a jupyter server\n",
    "\n",
    "<center>\n",
    "<img src=\"./Media/jupyter_image.png\">\n",
    "</center>\n",
    "\n"
   ]
  },
  {
   "cell_type": "markdown",
   "metadata": {},
   "source": [
    "## Create the .env file to access the development environment and resources\n",
    "\n",
    " Copy the .env example of this cell and replace the values with the correct values\n",
    "\n",
    " ``` bash\n",
    "# Environment variables go here, can be read by `python-dotenv` package:\n",
    "#\n",
    "#    ----------------------------------------------------------------\n",
    "#     from dotenv import load_dotenv, find_dotenv\n",
    "#\n",
    "#     dotenv_path = find_dotenv()\n",
    "#     load_dotenv(dotenv_path)\n",
    "#    ----------------------------------------------------------------\n",
    "#\n",
    "# DO NOT ADD THIS FILE TO VERSION CONTROL!\n",
    "# ___________________________________________________________________________\n",
    "############################ ARM service pricipal Connection ######\n",
    "ARM_SUBSCRIPTION_ID='XXXXXXX'\n",
    "ARM_TENANT_ID='XXXXXXX'\n",
    "ARM_CLIENT_ID='XXXXXXX'\n",
    "ARM_CLIENT_SECRET='XXXXXXX'\n",
    "############################ Nonprod DEV / STAGING ################\n",
    "SUBSCRIPTION_ALIAS='nonprod'\n",
    "PRODUCT_ALIAS=\"mer\"\n",
    "############################# DEV #################################\n",
    "RESOURCE_GROUP=\"rg-mer-dev\"\n",
    "ENVIRONMENT_ALIAS=\"dev\"\n",
    "MLW_WORKSPACE_NAME=\"mlw-mer-dev-neu\"\n",
    "```\n",
    "###  Location of the data in the .env file\n",
    "\n",
    " ARM_SUBSCRIPTION: can be located in the zaureml workspace propierties tab.\n",
    " \n",
    " ![ARM_SUBSCRIPTION_ID](Media/arm_subscription_id.png)\n",
    "\n",
    "ARM_TENANT_ID: to get the tenant_id run:\n",
    "\n",
    " ``` bash\n",
    "az login\n",
    "az account show --query 'tenantId'\n",
    " ```\n",
    "\n",
    " The keyvault  [kv-master-nonprod-neu](https://portal.azure.com/#@lantek360.onmicrosoft.com/resource/subscriptions/0f14b462-d4b3-46c0-8f30-1ff04bd430ad/resourceGroups/rg-master-nonprod/providers/Microsoft.KeyVault/vaults/kv-master-nonprod-neu/secrets) has the values of the:\n",
    "\n",
    " - [ARM_CLIENT_ID](https://portal.azure.com/#view/Microsoft_Azure_KeyVault/ListObjectVersionsRBACBlade/~/overview/objectType/secrets/objectId/https%3A%2F%2Fkv-master-nonprod-neu.vault.azure.net%2Fsecrets%2Farm-client-id/vaultResourceUri/%2Fsubscriptions%2F0f14b462-d4b3-46c0-8f30-1ff04bd430ad%2FresourceGroups%2Frg-master-nonprod%2Fproviders%2FMicrosoft.KeyVault%2Fvaults%2Fkv-master-nonprod-neu/vaultId/%2Fsubscriptions%2F0f14b462-d4b3-46c0-8f30-1ff04bd430ad%2FresourceGroups%2Frg-master-nonprod%2Fproviders%2FMicrosoft.KeyVault%2Fvaults%2Fkv-master-nonprod-neu)\n",
    "\n",
    " - [ARM_CLIENT_SECRET](https://portal.azure.com/#view/Microsoft_Azure_KeyVault/ListObjectVersionsRBACBlade/~/overview/objectType/secrets/objectId/https%3A%2F%2Fkv-master-nonprod-neu.vault.azure.net%2Fsecrets%2Farm-client-secret/vaultResourceUri/%2Fsubscriptions%2F0f14b462-d4b3-46c0-8f30-1ff04bd430ad%2FresourceGroups%2Frg-master-nonprod%2Fproviders%2FMicrosoft.KeyVault%2Fvaults%2Fkv-master-nonprod-neu/vaultId/%2Fsubscriptions%2F0f14b462-d4b3-46c0-8f30-1ff04bd430ad%2FresourceGroups%2Frg-master-nonprod%2Fproviders%2FMicrosoft.KeyVault%2Fvaults%2Fkv-master-nonprod-neu)\n",
    "\n",
    "  ![arm_client_id](Media/arm_client_id.png)\n"
   ]
  },
  {
   "cell_type": "markdown",
   "metadata": {},
   "source": [
    "### Check the .env file "
   ]
  },
  {
   "cell_type": "code",
   "execution_count": 9,
   "metadata": {},
   "outputs": [],
   "source": [
    "# <!-- cspell:disable -->\n",
    "import os\n",
    "from dotenv import load_dotenv, find_dotenv\n",
    "\n",
    "def check_and_load_env_file():\n",
    "    # Find the .env file in the directory or any parent directories\n",
    "    env_file_path = find_dotenv()\n",
    "\n",
    "    # Check if the .env file exists\n",
    "    if not os.path.exists(env_file_path):\n",
    "        print(\".env file not found.\")\n",
    "        return False\n",
    "\n",
    "    try:\n",
    "        # Load the environment variables from the .env file\n",
    "        load_dotenv()\n",
    "    except Exception as e:\n",
    "        print(f\"Error loading .env file: {e}\")\n",
    "        return False\n",
    "\n",
    "    # Check if the required environment variables are present\n",
    "    required_variables = [\"ARM_SUBSCRIPTION_ID\", \"ARM_CLIENT_ID\", \"ARM_TENANT_ID\",\n",
    "                          \"SUBSCRIPTION_ALIAS\", \"PRODUCT_ALIAS\", \"RESOURCE_GROUP\", \"ENVIRONMENT_ALIAS\"\n",
    "                          , \"MLW_WORKSPACE_NAME\"]\n",
    "    for var in required_variables:\n",
    "        if var not in os.environ:\n",
    "            print(f\"Required variable '{var}' not found in .env file.\")\n",
    "            return False\n",
    "\n",
    "    return True"
   ]
  },
  {
   "cell_type": "code",
   "execution_count": 10,
   "metadata": {},
   "outputs": [
    {
     "name": "stdout",
     "output_type": "stream",
     "text": [
      "Connection parameters loaded: \n",
      "nonprod\n",
      "mer\n",
      "rg-mer-dev\n",
      "dev\n",
      "mlw-mer-dev-neu\n"
     ]
    }
   ],
   "source": [
    "if (check_and_load_env_file) :\n",
    "    print('Connection parameters loaded: ')\n",
    "    \n",
    "    arm_subscription_id = os.getenv(\"ARM_SUBSCRIPTION_ID\")\n",
    "    arm_tenant_id = os.getenv(\"ARM_CLIENT_ID\")\n",
    "    arm_client_id = os.getenv(\"ARM_TENANT_ID\")\n",
    "    subscription_alias = os.getenv(\"SUBSCRIPTION_ALIAS\")\n",
    "    product_alias = os.getenv(\"PRODUCT_ALIAS\")\n",
    "    resource_group = os.getenv(\"RESOURCE_GROUP\")\n",
    "    environment_alias = os.getenv(\"ENVIRONMENT_ALIAS\")\n",
    "    mlw_workspace_name = os.getenv(\"MLW_WORKSPACE_NAME\")\n",
    "\n",
    "    print(subscription_alias)\n",
    "    print(product_alias)\n",
    "    print(resource_group)\n",
    "    print(environment_alias)\n",
    "    print(mlw_workspace_name)\n",
    "else:\n",
    "    print('Create the .env file coping the example and put the correct params')"
   ]
  }
 ],
 "metadata": {
  "kernelspec": {
   "display_name": "T_smartquoting_env",
   "language": "python",
   "name": "python3"
  },
  "language_info": {
   "codemirror_mode": {
    "name": "ipython",
    "version": 3
   },
   "file_extension": ".py",
   "mimetype": "text/x-python",
   "name": "python",
   "nbconvert_exporter": "python",
   "pygments_lexer": "ipython3",
   "version": "3.8.16"
  },
  "orig_nbformat": 4
 },
 "nbformat": 4,
 "nbformat_minor": 2
}
